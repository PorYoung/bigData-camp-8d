{
 "cells": [
  {
   "cell_type": "markdown",
   "metadata": {},
   "source": [
    "# 修改jupyter python运行环境\n",
    "conda create -n py3 python=3 # 创建一个python3的环境，名为py3\n",
    "source activate py3 # 激活py3环境\n",
    "conda install ipykernel # 安装ipykernel模块\n",
    "python -m ipykernel install --user --name py3 --display-name \"py3\" # 进行配置\n",
    "jupyter notebook # 启动jupyter notebook，然后在\"新建\"中就会有py3这个kernel了 "
   ]
  },
  {
   "cell_type": "code",
   "execution_count": 14,
   "metadata": {},
   "outputs": [],
   "source": [
    "import requests\n",
    "from bs4 import BeautifulSoup"
   ]
  },
  {
   "cell_type": "code",
   "execution_count": 15,
   "metadata": {},
   "outputs": [],
   "source": [
    "def spider_xiaohuar_content(url,headers):\n",
    "    response=requests.get(url=url,headers=headers)\n",
    "    \n",
    "    print(response.status_code)\n",
    "    \n",
    "    if response.status_code==200:\n",
    "        response.encoding='utf-8'\n",
    "        html=response.content\n",
    "        # 参数：网页内容，解析器\n",
    "        soup=BeautifulSoup(html,'html5lib')\n",
    "        div_list=soup.find_all('div',attrs={'class':'all_lanmu'})\n",
    "        \n",
    "        text=''\n",
    "        file=open('爬虫校花.md','w',encodeing='utf-8')\n",
    "        for div in div_list:\n",
    "            title_div=div.find('div',attrs={'class':'title1000'})\n",
    "            title=title_div.find('a').string\n",
    "#             print(title)\n",
    "            text+='## 标题：'+title+'\\n\\n'\n",
    "            \n",
    "            ul=div.find('ul')\n",
    "            li_list=ul.find_all('li')\n",
    "            for li in li_list:\n",
    "                img_src=li.find('img').attrs['lazysrc']\n",
    "                a_href=li.find('a').attrs['href']\n",
    "                img_title=li.find('span').string\n",
    "                school=li.find('b',attrs={'class':'b1'}).string\n",
    "                fav=li.find('b',attrs={'class':'b2'}).string\n",
    "                \n",
    "                if url not in img_src:\n",
    "                    img_src=url+img_src\n",
    "                \n",
    "                text+='!['+img_title+']('+img_src+')'+'\\n\\n'\n",
    "                text+='- 学校\\n\\n'+scholl\n",
    "                text+='- 点赞人数\\n\\n'+fav\n",
    "        file.write(text)\n",
    "        file.close\n",
    "            "
   ]
  },
  {
   "cell_type": "code",
   "execution_count": 16,
   "metadata": {},
   "outputs": [
    {
     "name": "stdout",
     "output_type": "stream",
     "text": [
      "200\n"
     ]
    },
    {
     "ename": "NameError",
     "evalue": "name 'soup' is not defined",
     "output_type": "error",
     "traceback": [
      "\u001b[1;31m---------------------------------------------------------------------------\u001b[0m",
      "\u001b[1;31mNameError\u001b[0m                                 Traceback (most recent call last)",
      "\u001b[1;32m<ipython-input-16-1dd1a2f49357>\u001b[0m in \u001b[0;36m<module>\u001b[1;34m\u001b[0m\n\u001b[0;32m      1\u001b[0m \u001b[0murl\u001b[0m\u001b[1;33m=\u001b[0m\u001b[1;34m'http://xiaohuar.com/'\u001b[0m\u001b[1;33m\u001b[0m\u001b[1;33m\u001b[0m\u001b[0m\n\u001b[0;32m      2\u001b[0m \u001b[0mheaders\u001b[0m\u001b[1;33m=\u001b[0m\u001b[1;33m{\u001b[0m\u001b[1;34m'User-Agent'\u001b[0m\u001b[1;33m:\u001b[0m \u001b[1;34m'Mozilla/5.0 (Windows NT 10.0; Win64; x64) AppleWebKit/537.36 (KHTML, like Gecko) Chrome/75.0.3770.100 Safari/537.36'\u001b[0m\u001b[1;33m}\u001b[0m\u001b[1;33m\u001b[0m\u001b[1;33m\u001b[0m\u001b[0m\n\u001b[1;32m----> 3\u001b[1;33m \u001b[0mspider_xiaohuar_content\u001b[0m\u001b[1;33m(\u001b[0m\u001b[0murl\u001b[0m\u001b[1;33m,\u001b[0m\u001b[0mheaders\u001b[0m\u001b[1;33m)\u001b[0m\u001b[1;33m\u001b[0m\u001b[1;33m\u001b[0m\u001b[0m\n\u001b[0m",
      "\u001b[1;32m<ipython-input-15-1bf25e92e0d7>\u001b[0m in \u001b[0;36mspider_xiaohuar_content\u001b[1;34m(url, headers)\u001b[0m\n\u001b[0;32m      8\u001b[0m         \u001b[0mhtml\u001b[0m\u001b[1;33m=\u001b[0m\u001b[0mresponse\u001b[0m\u001b[1;33m.\u001b[0m\u001b[0mcontent\u001b[0m\u001b[1;33m\u001b[0m\u001b[1;33m\u001b[0m\u001b[0m\n\u001b[0;32m      9\u001b[0m         \u001b[1;31m# 参数：网页内容，解析器\u001b[0m\u001b[1;33m\u001b[0m\u001b[1;33m\u001b[0m\u001b[1;33m\u001b[0m\u001b[0m\n\u001b[1;32m---> 10\u001b[1;33m         \u001b[0msoup\u001b[0m\u001b[1;33m==\u001b[0m\u001b[0mBeautifulSoup\u001b[0m\u001b[1;33m(\u001b[0m\u001b[0mhtml\u001b[0m\u001b[1;33m,\u001b[0m\u001b[1;34m'html5lib'\u001b[0m\u001b[1;33m)\u001b[0m\u001b[1;33m\u001b[0m\u001b[1;33m\u001b[0m\u001b[0m\n\u001b[0m\u001b[0;32m     11\u001b[0m         \u001b[0mdiv_list\u001b[0m\u001b[1;33m=\u001b[0m\u001b[0msoup\u001b[0m\u001b[1;33m.\u001b[0m\u001b[0mfind_all\u001b[0m\u001b[1;33m(\u001b[0m\u001b[1;34m'div'\u001b[0m\u001b[1;33m,\u001b[0m\u001b[0mattrs\u001b[0m\u001b[1;33m=\u001b[0m\u001b[1;33m{\u001b[0m\u001b[1;34m'class'\u001b[0m\u001b[1;33m:\u001b[0m\u001b[1;34m'all_lanmu'\u001b[0m\u001b[1;33m}\u001b[0m\u001b[1;33m)\u001b[0m\u001b[1;33m\u001b[0m\u001b[1;33m\u001b[0m\u001b[0m\n\u001b[0;32m     12\u001b[0m \u001b[1;33m\u001b[0m\u001b[0m\n",
      "\u001b[1;31mNameError\u001b[0m: name 'soup' is not defined"
     ]
    }
   ],
   "source": [
    "url='http://xiaohuar.com/'\n",
    "headers={'User-Agent': 'Mozilla/5.0 (Windows NT 10.0; Win64; x64) AppleWebKit/537.36 (KHTML, like Gecko) Chrome/75.0.3770.100 Safari/537.36'}\n",
    "spider_xiaohuar_content(url,headers)"
   ]
  },
  {
   "cell_type": "code",
   "execution_count": null,
   "metadata": {},
   "outputs": [],
   "source": []
  }
 ],
 "metadata": {
  "kernelspec": {
   "display_name": "bigData",
   "language": "python",
   "name": "bigdata"
  },
  "language_info": {
   "codemirror_mode": {
    "name": "ipython",
    "version": 3
   },
   "file_extension": ".py",
   "mimetype": "text/x-python",
   "name": "python",
   "nbconvert_exporter": "python",
   "pygments_lexer": "ipython3",
   "version": "3.6.8"
  }
 },
 "nbformat": 4,
 "nbformat_minor": 2
}
